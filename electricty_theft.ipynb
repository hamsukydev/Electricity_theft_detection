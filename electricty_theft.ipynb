{
 "cells": [
  {
   "cell_type": "code",
   "execution_count": 1,
   "id": "4083d197",
   "metadata": {},
   "outputs": [],
   "source": [
    "#Here is the function to fetch the data\n",
    "# Ignore Warnings\n",
    "import warnings\n",
    "warnings.filterwarnings('ignore')\n",
    "\n",
    "import numpy as np\n",
    "import pandas as pd \n",
    "import matplotlib.pyplot as plt\n",
    "import plotly.express as px\n",
    "import plotly.graph_objs as go\n",
    "import seaborn as sns\n",
    "import os\n",
    "\n",
    "from sklearn.metrics import roc_auc_score\n",
    "from sklearn.model_selection import StratifiedKFold\n",
    "from lightgbm import LGBMClassifier\n",
    "\n",
    "import os\n",
    "for dirname, _, filenames in os.walk('/kaggle/input'):\n",
    "    for filename in filenames:\n",
    "        print(os.path.join(dirname, filename))\n"
   ]
  },
  {
   "cell_type": "code",
   "execution_count": 62,
   "id": "001f5108",
   "metadata": {},
   "outputs": [],
   "source": [
    "invoice_test = pd.read_csv('invoice_test.csv',low_memory=False)\n",
    "invoice_train = pd.read_csv('invoice_train.csv',low_memory=False)\n",
    "client_test = pd.read_csv('client_test.csv',low_memory=False)\n",
    "client_train = pd.read_csv('client_train.csv',low_memory=False)\n",
    "sample_submission = pd.read_csv('SampleSubmission (2).csv',low_memory=False)"
   ]
  },
  {
   "cell_type": "code",
   "execution_count": 63,
   "id": "afc6799f",
   "metadata": {},
   "outputs": [
    {
     "name": "stdout",
     "output_type": "stream",
     "text": [
      "(135493, 6) (4476749, 16) (58069, 5) (4476749, 16)\n"
     ]
    }
   ],
   "source": [
    "#compare size of the various datasets\n",
    "print(client_train.shape, invoice_train.shape, client_test.shape, invoice_train.shape)"
   ]
  },
  {
   "cell_type": "code",
   "execution_count": 64,
   "id": "010bad5f",
   "metadata": {},
   "outputs": [
    {
     "data": {
      "text/html": [
       "<div>\n",
       "<style scoped>\n",
       "    .dataframe tbody tr th:only-of-type {\n",
       "        vertical-align: middle;\n",
       "    }\n",
       "\n",
       "    .dataframe tbody tr th {\n",
       "        vertical-align: top;\n",
       "    }\n",
       "\n",
       "    .dataframe thead th {\n",
       "        text-align: right;\n",
       "    }\n",
       "</style>\n",
       "<table border=\"1\" class=\"dataframe\">\n",
       "  <thead>\n",
       "    <tr style=\"text-align: right;\">\n",
       "      <th></th>\n",
       "      <th>client_id</th>\n",
       "      <th>invoice_date</th>\n",
       "      <th>tarif_type</th>\n",
       "      <th>counter_number</th>\n",
       "      <th>counter_statue</th>\n",
       "      <th>counter_code</th>\n",
       "      <th>reading_remarque</th>\n",
       "      <th>counter_coefficient</th>\n",
       "      <th>consommation_level_1</th>\n",
       "      <th>consommation_level_2</th>\n",
       "      <th>consommation_level_3</th>\n",
       "      <th>consommation_level_4</th>\n",
       "      <th>old_index</th>\n",
       "      <th>new_index</th>\n",
       "      <th>months_number</th>\n",
       "      <th>counter_type</th>\n",
       "    </tr>\n",
       "  </thead>\n",
       "  <tbody>\n",
       "    <tr>\n",
       "      <th>0</th>\n",
       "      <td>train_Client_0</td>\n",
       "      <td>2014-03-24</td>\n",
       "      <td>11</td>\n",
       "      <td>1335667</td>\n",
       "      <td>0</td>\n",
       "      <td>203</td>\n",
       "      <td>8</td>\n",
       "      <td>1</td>\n",
       "      <td>82</td>\n",
       "      <td>0</td>\n",
       "      <td>0</td>\n",
       "      <td>0</td>\n",
       "      <td>14302</td>\n",
       "      <td>14384</td>\n",
       "      <td>4</td>\n",
       "      <td>ELEC</td>\n",
       "    </tr>\n",
       "    <tr>\n",
       "      <th>1</th>\n",
       "      <td>train_Client_0</td>\n",
       "      <td>2013-03-29</td>\n",
       "      <td>11</td>\n",
       "      <td>1335667</td>\n",
       "      <td>0</td>\n",
       "      <td>203</td>\n",
       "      <td>6</td>\n",
       "      <td>1</td>\n",
       "      <td>1200</td>\n",
       "      <td>184</td>\n",
       "      <td>0</td>\n",
       "      <td>0</td>\n",
       "      <td>12294</td>\n",
       "      <td>13678</td>\n",
       "      <td>4</td>\n",
       "      <td>ELEC</td>\n",
       "    </tr>\n",
       "    <tr>\n",
       "      <th>2</th>\n",
       "      <td>train_Client_0</td>\n",
       "      <td>2015-03-23</td>\n",
       "      <td>11</td>\n",
       "      <td>1335667</td>\n",
       "      <td>0</td>\n",
       "      <td>203</td>\n",
       "      <td>8</td>\n",
       "      <td>1</td>\n",
       "      <td>123</td>\n",
       "      <td>0</td>\n",
       "      <td>0</td>\n",
       "      <td>0</td>\n",
       "      <td>14624</td>\n",
       "      <td>14747</td>\n",
       "      <td>4</td>\n",
       "      <td>ELEC</td>\n",
       "    </tr>\n",
       "    <tr>\n",
       "      <th>3</th>\n",
       "      <td>train_Client_0</td>\n",
       "      <td>2015-07-13</td>\n",
       "      <td>11</td>\n",
       "      <td>1335667</td>\n",
       "      <td>0</td>\n",
       "      <td>207</td>\n",
       "      <td>8</td>\n",
       "      <td>1</td>\n",
       "      <td>102</td>\n",
       "      <td>0</td>\n",
       "      <td>0</td>\n",
       "      <td>0</td>\n",
       "      <td>14747</td>\n",
       "      <td>14849</td>\n",
       "      <td>4</td>\n",
       "      <td>ELEC</td>\n",
       "    </tr>\n",
       "    <tr>\n",
       "      <th>4</th>\n",
       "      <td>train_Client_0</td>\n",
       "      <td>2016-11-17</td>\n",
       "      <td>11</td>\n",
       "      <td>1335667</td>\n",
       "      <td>0</td>\n",
       "      <td>207</td>\n",
       "      <td>9</td>\n",
       "      <td>1</td>\n",
       "      <td>572</td>\n",
       "      <td>0</td>\n",
       "      <td>0</td>\n",
       "      <td>0</td>\n",
       "      <td>15066</td>\n",
       "      <td>15638</td>\n",
       "      <td>12</td>\n",
       "      <td>ELEC</td>\n",
       "    </tr>\n",
       "  </tbody>\n",
       "</table>\n",
       "</div>"
      ],
      "text/plain": [
       "        client_id invoice_date  tarif_type  counter_number counter_statue   \n",
       "0  train_Client_0   2014-03-24          11         1335667              0  \\\n",
       "1  train_Client_0   2013-03-29          11         1335667              0   \n",
       "2  train_Client_0   2015-03-23          11         1335667              0   \n",
       "3  train_Client_0   2015-07-13          11         1335667              0   \n",
       "4  train_Client_0   2016-11-17          11         1335667              0   \n",
       "\n",
       "   counter_code  reading_remarque  counter_coefficient  consommation_level_1   \n",
       "0           203                 8                    1                    82  \\\n",
       "1           203                 6                    1                  1200   \n",
       "2           203                 8                    1                   123   \n",
       "3           207                 8                    1                   102   \n",
       "4           207                 9                    1                   572   \n",
       "\n",
       "   consommation_level_2  consommation_level_3  consommation_level_4   \n",
       "0                     0                     0                     0  \\\n",
       "1                   184                     0                     0   \n",
       "2                     0                     0                     0   \n",
       "3                     0                     0                     0   \n",
       "4                     0                     0                     0   \n",
       "\n",
       "   old_index  new_index  months_number counter_type  \n",
       "0      14302      14384              4         ELEC  \n",
       "1      12294      13678              4         ELEC  \n",
       "2      14624      14747              4         ELEC  \n",
       "3      14747      14849              4         ELEC  \n",
       "4      15066      15638             12         ELEC  "
      ]
     },
     "execution_count": 64,
     "metadata": {},
     "output_type": "execute_result"
    }
   ],
   "source": [
    "invoice_train.head()"
   ]
  },
  {
   "cell_type": "markdown",
   "id": "151f9f0e",
   "metadata": {},
   "source": [
    "# Exploratory data analysis (EDA)\n"
   ]
  },
  {
   "cell_type": "code",
   "execution_count": 5,
   "id": "8a34719d",
   "metadata": {},
   "outputs": [],
   "source": [
    "L = pd.to_datetime(client_train['creation_date'], dayfirst=True)\n",
    "client_train['creation_year'] = L.dt.year\n",
    "years=set(L.dt.year)"
   ]
  },
  {
   "cell_type": "markdown",
   "id": "974f20fd",
   "metadata": {},
   "source": [
    "### Invoice counter type (ELEC, GAZ\n"
   ]
  },
  {
   "cell_type": "code",
   "execution_count": 6,
   "id": "9ea6f713",
   "metadata": {
    "scrolled": true
   },
   "outputs": [],
   "source": [
    "C=invoice_train['counter_type'].tolist()\n",
    "elec=C.count('ELEC')*100/len(C)\n",
    "gaz=C.count('GAZ')*100/len(C)\n",
    "plt.figure(figsize=(6,6))\n",
    "plt.pie([elec,gaz], labels = ['ELEC','GAZ'],autopct='%1.1f%%')\n",
    "plt.title(\"Proportion of Counter type (ELEC to GAZ)\")\n",
    "plt.show()"
   ]
  },
  {
   "cell_type": "markdown",
   "id": "65196c66",
   "metadata": {},
   "source": [
    "The plot shows the proportion of counter type (electricity to gas) for the Tunisian Company of Electricity and Gas (STEG). The data shows that 68.8% of counters are for electricity and 31.2% of counters are for gas."
   ]
  },
  {
   "cell_type": "code",
   "execution_count": 7,
   "id": "ae80c48a",
   "metadata": {},
   "outputs": [],
   "source": [
    "year = client_train.groupby(['creation_year'])['client_id'].count()\n",
    "\n",
    "plt.figure(figsize=(12,6)) # increase figure size to make it larger\n",
    "\n",
    "plt.plot(year)\n",
    "\n",
    "plt.title('Number of Clients by Creation Year')\n",
    "plt.xlabel('Creation Year')\n",
    "plt.ylabel('Number of Clients')\n",
    "\n",
    "# set x-axis tick labels to show every 5 years\n",
    "plt.xticks(range(min(year.index), max(year.index)+1, 5), rotation=45)\n",
    "\n",
    "plt.show()"
   ]
  },
  {
   "cell_type": "markdown",
   "id": "6f96e033",
   "metadata": {},
   "source": [
    "The plot shows the number of clients by creation year for the Tunisian Company of Electricity and Gas (STEG). The data shows that the number of clients has increased steadily over the years, with a few notable dips in 1999, 2002, and 2005. The largest increase in the number of clients occurred between 1997 and 2018, with a particularly sharp increase in 2006.\n",
    "The overall trend in the data shows that the number of clients for STEG has increased steadily over the years. This is likely due to a number of factors, including population growth, economic development, and improved access to electricity and gas."
   ]
  },
  {
   "cell_type": "code",
   "execution_count": 8,
   "id": "efaea122",
   "metadata": {},
   "outputs": [],
   "source": [
    "\n",
    "E1=[i for i in years]\n",
    "groups = client_train.groupby(['creation_year','client_catg'])['client_id'].count()\n",
    "L11=[]\n",
    "L12=[]\n",
    "L51=[]\n",
    "for i in years:\n",
    "    L11.append(groups[i][11])\n",
    "    L12.append(groups[i][12])\n",
    "    L51.append(groups[i][51])\n",
    "fig, ax = plt.subplots()\n",
    "fig.set_size_inches(10, 5)\n",
    "ax.plot(E1, L11,label='cat_11')\n",
    "ax.plot(E1, L12,label='cat_12')\n",
    "ax.plot(E1, L51,label='cat_51')\n",
    "plt.title(\"Number of customers by year\")\n",
    "plt.legend()\n",
    "plt.show()\n",
    "#\" Logarithmic plot \"\n",
    "logL11 = list(map(np.log, L11))\n",
    "logL12 = list(map(np.log, L12))\n",
    "logL51 = list(map(np.log, L51))\n",
    "fig, ax = plt.subplots()\n",
    "fig.set_size_inches(10, 5)\n",
    "ax.plot(E1, logL11,label='cat_11')\n",
    "ax.plot(E1, logL12,label='cat_12')\n",
    "ax.plot(E1, logL51,label='cat_51')\n",
    "plt.title(\"Logarithmic number of customers by year\")\n",
    "plt.legend()\n",
    "plt.show()"
   ]
  },
  {
   "cell_type": "markdown",
   "id": "b9e40b95",
   "metadata": {},
   "source": [
    "The plot shows the number of customers by category by year for the Tunisian Company of Electricity and Gas (STEG). The data shows that there are three main categories of customers: 11, 12, and 51. Category 11 is the largest category, followed by category 12, and then category 51.\n",
    "\n",
    "The data also shows that the number of customers in each category has increased over the years. The largest increase in the number of customers occurred in category 11. This category is likely to be made up of residential customers, as this is the largest category of customers for STEG."
   ]
  },
  {
   "cell_type": "code",
   "execution_count": 9,
   "id": "49920dfe",
   "metadata": {},
   "outputs": [],
   "source": [
    "client_train[\"target\"].value_counts()"
   ]
  },
  {
   "cell_type": "code",
   "execution_count": 10,
   "id": "725f491f",
   "metadata": {
    "scrolled": true
   },
   "outputs": [],
   "source": [
    "ds = client_train.groupby(['target'])['client_id'].count()\n",
    "percentages = [100 * count / sum(ds) for count in ds]\n",
    "\n",
    "colors = ['#66c2a5', '#fc8d62']\n",
    "fig, ax = plt.subplots(figsize=(8, 6))\n",
    "ax.bar(x=['0', '1'], height=ds.values, color=colors)\n",
    "\n",
    "# Add axis labels and a title\n",
    "ax.set_xlabel('Target variable')\n",
    "ax.set_ylabel('Number of clients')\n",
    "ax.set_title('Distribution of target variable')\n",
    "\n",
    "# Add a legend\n",
    "ax.legend(['Category 0', 'Category 1'])\n",
    "\n",
    "# Add percentage labels above each bar\n",
    "for i, v in enumerate(percentages):\n",
    "    ax.text(i, ds.values[i]+50, f'{v:.1f}%', ha='center')\n",
    "\n",
    "# Show the plot\n",
    "plt.show()\n"
   ]
  },
  {
   "cell_type": "markdown",
   "id": "05416f24",
   "metadata": {},
   "source": [
    "The plot shows the distribution of fraud and non-fraud cases in the data set. The data is clearly imbalanced, with far more non-fraud cases than fraud cases. This can be a problem for machine learning models, as they can be biased towards the majority class. There are a number of techniques that can be used to deal with imbalanced data :\n",
    "\n",
    "Oversampling: This involves creating additional instances of the minority class by duplicating existing instances.\n",
    "Undersampling: This involves removing instances from the majority class.\n",
    "Ensemble learning: This involves training multiple models on different subsets of the data and then combining their predictions."
   ]
  },
  {
   "cell_type": "code",
   "execution_count": 11,
   "id": "62ad37ed",
   "metadata": {},
   "outputs": [],
   "source": [
    "def add_percentage_labels(plot, total_count):\n",
    "    for patch in plot.patches:\n",
    "        # Get the height and width of each bar in the plot\n",
    "        height = patch.get_height()\n",
    "        width = patch.get_width()\n",
    "\n",
    "        # Calculate the percentage of the total count represented by this bar\n",
    "        percentage = (height / total_count) * 100\n",
    "\n",
    "        # Add the percentage label to the plot\n",
    "        plot.annotate('{:.1f}%'.format(percentage), (patch.get_x() + width / 2, patch.get_y() + height * 1.02), ha=\"center\")"
   ]
  },
  {
   "cell_type": "code",
   "execution_count": 12,
   "id": "40a825da",
   "metadata": {},
   "outputs": [],
   "source": [
    "# Calculate the percentage of frauds by region\n",
    "fraud_pct = client_train.groupby(\"region\")[\"target\"].mean() * 100\n",
    "\n",
    "# Create a bar chart using Matplotlib\n",
    "fig, ax = plt.subplots(figsize=(12, 6))\n",
    "fraud_pct.plot(kind=\"bar\", ax=ax, color=\"blue\")\n",
    "ax.set_xlabel(\"Region\")\n",
    "ax.set_ylabel(\"Percentage of Frauds\")\n",
    "ax.set_title(\"Percentage of Frauds by Region\")\n",
    "plt.show()"
   ]
  },
  {
   "cell_type": "markdown",
   "id": "ab64fb53",
   "metadata": {},
   "source": [
    "Percentage of Frauds by Region\n",
    "\n",
    "The plot shows that most regions have a relatively low percentage of frauds, with values ranging between 2% and 8%. However, there are a few regions where the percentage of frauds is significantly higher, such as region 103 and 372, which have values over 10%. On the other hand, some regions, such as region 199, have no frauds reported at all.\n",
    "\n",
    "This information can be useful in identifying areas that may require additional scrutiny or monitoring to prevent fraud. It can also help in identifying trends or patterns in fraudulent activities across different regions, which may inform the development of strategies to prevent or reduce fraudulent activities in the future"
   ]
  },
  {
   "cell_type": "code",
   "execution_count": 13,
   "id": "2718c37a",
   "metadata": {},
   "outputs": [],
   "source": [
    "# Calculate the percentage of frauds by region\n",
    "fraud_pct = client_train.groupby(\"disrict\")[\"target\"].mean() * 100\n",
    "\n",
    "# Create a bar chart using Matplotlib\n",
    "fig, ax = plt.subplots(figsize=(12, 6))\n",
    "fraud_pct.plot(kind=\"bar\", ax=ax, color=\"blue\")\n",
    "ax.set_xlabel(\"disrict\")\n",
    "ax.set_ylabel(\"Percentage of Frauds\")\n",
    "ax.set_title(\"Percentage of Frauds by disrict\")\n",
    "plt.show()"
   ]
  },
  {
   "cell_type": "markdown",
   "id": "7ce38f38",
   "metadata": {},
   "source": [
    "The plot shows that there is no significant difference in the percentage of frauds across the four districts. District 60 has the lowest percentage of frauds, with 3.5%, followed by district 62 with 5%, district 63 with 6%, and district 29 with 7.1%."
   ]
  },
  {
   "cell_type": "code",
   "execution_count": 14,
   "id": "dec12c9d",
   "metadata": {},
   "outputs": [],
   "source": [
    "pivot = pd.pivot_table(client_train, index=[\"region\", \"disrict\"], columns=[\"target\"], aggfunc=\"size\")\n",
    "sns.heatmap(pivot, cmap=\"Blues\", annot=True, fmt=\".0f\")"
   ]
  },
  {
   "cell_type": "markdown",
   "id": "ec0c0420",
   "metadata": {},
   "source": [
    "The heatmap shows the distribution of fraudulent and non-fraudulent clients across different regions and districts."
   ]
  },
  {
   "cell_type": "code",
   "execution_count": 15,
   "id": "94296787",
   "metadata": {},
   "outputs": [],
   "source": [
    "client_train['client_catg'] = client_train['client_catg'].astype(int)"
   ]
  },
  {
   "cell_type": "code",
   "execution_count": 16,
   "id": "cc825fa5",
   "metadata": {},
   "outputs": [],
   "source": [
    "# Calculate the percentage of frauds by region\n",
    "fraud_pct = client_train.groupby(\"client_catg\")[\"target\"].mean() * 100\n",
    "\n",
    "# Create a bar chart using Matplotlib\n",
    "fig, ax = plt.subplots(figsize=(12, 6))\n",
    "fraud_pct.plot(kind=\"bar\", ax=ax, color=\"blue\")\n",
    "ax.set_xlabel(\"client_cat\")\n",
    "ax.set_ylabel(\"Percentage of Frauds\")\n",
    "ax.set_title(\"Percentage of Frauds by disrict\")\n",
    "plt.show()"
   ]
  },
  {
   "cell_type": "markdown",
   "id": "b42d1e78",
   "metadata": {},
   "source": [
    "The plot shows that category 51 has the highest percentage of frauds, with over 17%. The other categories have much lower percentages of frauds, with none of the other categories having more than 5% of frauds."
   ]
  },
  {
   "cell_type": "markdown",
   "id": "7dfe7403",
   "metadata": {},
   "source": [
    "## Our goal in the next section is to investigate clients who have been involved in fraudulent activities and search for patterns in the data that may aid in identifying and preventing future fraudulent behavior. "
   ]
  },
  {
   "cell_type": "markdown",
   "id": "91624b6c",
   "metadata": {},
   "source": [
    "Merging the data and investigating the users who made fraud"
   ]
  },
  {
   "cell_type": "code",
   "execution_count": 17,
   "id": "dfc47a82",
   "metadata": {},
   "outputs": [],
   "source": [
    "merged_data = pd.merge(client_train, invoice_train, on=\"client_id\")\n",
    "merged_data.head()"
   ]
  },
  {
   "cell_type": "code",
   "execution_count": 18,
   "id": "86470cc9",
   "metadata": {},
   "outputs": [],
   "source": [
    "fraud_data = merged_data[merged_data[\"target\"] == 1]\n",
    "honest_data = merged_data[merged_data[\"target\"] == 0]\n",
    "fraud_data.head()"
   ]
  },
  {
   "cell_type": "code",
   "execution_count": 19,
   "id": "d0bb0923",
   "metadata": {},
   "outputs": [],
   "source": [
    "honest_data.tail()"
   ]
  },
  {
   "cell_type": "code",
   "execution_count": 20,
   "id": "e65e9565",
   "metadata": {},
   "outputs": [],
   "source": [
    "consumption_data = fraud_data.groupby(\"invoice_date\").agg({\"consommation_level_1\": \"sum\", \"consommation_level_2\": \"sum\", \"consommation_level_3\": \"sum\", \"consommation_level_4\": \"sum\"}).reset_index()\n",
    "consumption_data[\"invoice_date\"] = pd.to_datetime(consumption_data[\"invoice_date\"])\n",
    "consumption_data.head()"
   ]
  },
  {
   "cell_type": "code",
   "execution_count": 21,
   "id": "dedd1598",
   "metadata": {},
   "outputs": [],
   "source": [
    "Invoice_years = np.unique(consumption_data[\"invoice_date\"].dt.year)\n",
    "n_subplots = len(Invoice_years)\n",
    "n_subplots"
   ]
  },
  {
   "cell_type": "code",
   "execution_count": 22,
   "id": "132ef7a3",
   "metadata": {},
   "outputs": [],
   "source": [
    "fig, axes = plt.subplots(n_subplots, 1, figsize=(15, n_subplots*5))\n",
    "for i, year in enumerate(Invoice_years):\n",
    "    ax = axes[i] if n_subplots > 1 else axes\n",
    "    year_data = consumption_data[consumption_data[\"invoice_date\"].dt.year == year]\n",
    "    if not year_data.empty:\n",
    "        ax.plot(year_data[\"invoice_date\"], year_data[\"consommation_level_1\"], label=\"Level 1\")\n",
    "        ax.plot(year_data[\"invoice_date\"], year_data[\"consommation_level_2\"], label=\"Level 2\")\n",
    "        ax.plot(year_data[\"invoice_date\"], year_data[\"consommation_level_3\"], label=\"Level 3\")\n",
    "        ax.plot(year_data[\"invoice_date\"], year_data[\"consommation_level_4\"], label=\"Level 4\")\n",
    "        ax.set_xlabel(\"Invoice Date\")\n",
    "        ax.set_ylabel(\"Consumption\")\n",
    "        ax.set_title(f\"Consumption Levels for Clients with Frauds in {year}\")\n",
    "        ax.legend()\n",
    "plt.show()"
   ]
  },
  {
   "cell_type": "code",
   "execution_count": 23,
   "id": "77255241",
   "metadata": {},
   "outputs": [],
   "source": [
    "fraud_data['invoice_date'] = pd.to_datetime(fraud_data['invoice_date'])\n",
    "honest_data['invoice_date'] = pd.to_datetime(honest_data['invoice_date'])\n",
    "\n",
    "# Filter the data for invoices in 2005\n",
    "fraud_data_2005 = fraud_data[fraud_data['invoice_date'].dt.year == 2005]\n",
    "honest_data_2005 = honest_data[honest_data['invoice_date'].dt.year == 2005]\n",
    "\n",
    "# Select two random clients from the filtered dataset\n",
    "fraud_client = fraud_data_2005.sample(n=1)\n",
    "honest_client = honest_data_2005.sample(n=1)\n",
    "\n",
    "\n",
    "# Calculate the average consumption level 1 for each customer\n",
    "fraud_avg_cons_level_1 = fraud_data[fraud_data['client_id'] == fraud_client['client_id'].values[0]]['consommation_level_1'].mean()\n",
    "honest_avg_cons_level_1 = honest_data[honest_data['client_id'] == honest_client['client_id'].values[0]]['consommation_level_1'].mean()\n",
    "\n",
    "# Filter the data for the selected counter type and invoice date range\n",
    "counter_type = 'ELEC'\n",
    "start_date = '2005-01-01'\n",
    "end_date = '2005-12-31'\n",
    "fraud_data_filtered = fraud_data[(fraud_data['counter_type'] == counter_type) & (fraud_data['invoice_date'] >= start_date) & (fraud_data['invoice_date'] <= end_date)]\n",
    "honest_data_filtered = honest_data[(honest_data['counter_type'] == counter_type) & (honest_data['invoice_date'] >= start_date) & (honest_data['invoice_date'] <= end_date)]\n",
    "\n",
    "\n",
    "# Calculate the average consumption level 1 for each month in the selected date range for each customer\n",
    "fraud_monthly_data = fraud_data_filtered.groupby(pd.Grouper(key='invoice_date', freq='M')).agg({'consommation_level_1': 'mean'}).reset_index()\n",
    "fraud_monthly_data['Monthly AVG'] = 'Fraudulent'\n",
    "honest_monthly_data = honest_data_filtered.groupby(pd.Grouper(key='invoice_date', freq='M')).agg({'consommation_level_1': 'mean'}).reset_index()\n",
    "honest_monthly_data['Monthly AVG'] = 'Honest'\n",
    "\n",
    "# Merge the two data frames on the month column\n",
    "merged_monthly_data = pd.concat([fraud_monthly_data, honest_monthly_data])\n",
    "\n",
    "# Plot the consumption discrepancy between the two customers\n",
    "fig = px.line(merged_monthly_data, x='invoice_date', y='consommation_level_1', color='Monthly AVG',\n",
    "              line_dash='Monthly AVG', markers=True, template='plotly_white')\n",
    "fig.update_layout(title='Consumption Discrepancy Comparison Between Two Randomly Selected Customers')\n",
    "fig.show()"
   ]
  },
  {
   "cell_type": "markdown",
   "id": "7b7f1715",
   "metadata": {},
   "source": [
    "The plot displays the average consumption level 1 for two randomly selected customers, one fraudulent and one honest, over a range of dates in the year 2005.\n",
    "\n",
    "The plot shows two lines, one in blue for the honest customer, and one in orange for the fraudulent customer. The blue line for the honest customer is relatively stable, with only slight fluctuations over time, whereas the orange line for the fraudulent customer is much more erratic and unpredictable, with frequent spikes and dips in consumption. This suggests that the fraudulent customer is likely tampering with their meter to underreport their actual consumption levels. Overall, the plot provides a clear visual comparison of the consumption patterns of the two customers and highlights the stark differences between them."
   ]
  },
  {
   "cell_type": "code",
   "execution_count": 24,
   "id": "982b3f21",
   "metadata": {},
   "outputs": [],
   "source": [
    "fraud_data_sample = fraud_data.sample(n=1000, random_state=42)\n",
    "honest_data_sample = honest_data.sample(n=1000, random_state=42)\n",
    "\n",
    "# Calculate the average values for different invoice features\n",
    "fraudulent_means = fraud_data_sample[['tarif_type', 'counter_number', 'counter_statue', 'counter_code', \n",
    "                                      'counter_coefficient', 'consommation_level_1', 'consommation_level_2', \n",
    "                                      'consommation_level_3', 'consommation_level_4', 'old_index', 'new_index']].mean()\n",
    "non_fraudulent_means = honest_data_sample[['tarif_type', 'counter_number', 'counter_statue', 'counter_code', \n",
    "                                            'counter_coefficient', 'consommation_level_1', 'consommation_level_2', \n",
    "                                            'consommation_level_3', 'consommation_level_4', 'old_index', 'new_index']].mean()\n",
    "\n",
    "# Create the radar chart\n",
    "fig = go.Figure()\n",
    "\n",
    "fig.add_trace(go.Scatterpolar(\n",
    "      r=fraudulent_means.values,\n",
    "      theta=fraudulent_means.index,\n",
    "      fill='toself',\n",
    "      name='Fraudulent'\n",
    "))\n",
    "fig.add_trace(go.Scatterpolar(\n",
    "      r=non_fraudulent_means.values,\n",
    "      theta=non_fraudulent_means.index,\n",
    "      fill='toself',\n",
    "      name='Non-Fraudulent'\n",
    "))\n",
    "\n",
    "fig.update_layout(\n",
    "  polar=dict(\n",
    "    radialaxis=dict(\n",
    "      visible=True,\n",
    "      range=[0, 500] # set the range based on the data\n",
    "    )),\n",
    "  showlegend=True\n",
    ")\n",
    "\n",
    "fig.show()"
   ]
  },
  {
   "cell_type": "markdown",
   "id": "cccdf80f",
   "metadata": {},
   "source": [
    "This radar chart compares the mean values of different invoice features between fraudulent and non-fraudulent data samples."
   ]
  },
  {
   "cell_type": "code",
   "execution_count": 25,
   "id": "9b0a3d2a",
   "metadata": {},
   "outputs": [],
   "source": [
    "merged_data[\"reading_remarque\"].value_counts()"
   ]
  },
  {
   "cell_type": "code",
   "execution_count": 26,
   "id": "076c0534",
   "metadata": {},
   "outputs": [],
   "source": [
    "# Calculate the percentage of frauds by region\n",
    "fraud_pct = merged_data.groupby(\"counter_statue\")[\"target\"].mean() * 100\n",
    "\n",
    "# Create a bar chart using Matplotlib\n",
    "fig, ax = plt.subplots(figsize=(12, 6))\n",
    "fraud_pct.plot(kind=\"bar\", ax=ax, color=\"blue\")\n",
    "ax.set_xlabel(\"counter_statue\")\n",
    "ax.set_ylabel(\"Percentage of Frauds\")\n",
    "ax.set_title(\"Target vs counter_statue\")\n",
    "plt.show()"
   ]
  },
  {
   "cell_type": "markdown",
   "id": "afbf18f0",
   "metadata": {},
   "source": [
    "Counter_statue: takes up to 5 values such as working fine, not working, on hold statue, ect"
   ]
  },
  {
   "cell_type": "code",
   "execution_count": 27,
   "id": "4bc336bd",
   "metadata": {},
   "outputs": [],
   "source": [
    "df = merged_data[['tarif_type', 'target']]\n",
    "\n",
    "plt.figure(figsize=(10, 6))\n",
    "ax = sns.violinplot(data=df, x='target', y='tarif_type')\n",
    "\n",
    "plt.xlabel('Target')\n",
    "plt.ylabel('Tarif Type')\n",
    "plt.title('Distribution of Tarif Type for Fraud and Non-Fraud Cases')\n",
    "plt.xticks([0, 1], ['Non-Fraud', 'Fraud'])\n",
    "plt.grid(True)\n",
    "\n",
    "# Calculate the count values for each combination of tarif_type and target\n",
    "group_counts = df.groupby(['target', 'tarif_type']).size().reset_index(name='count')\n",
    "\n",
    "plt.show()"
   ]
  },
  {
   "cell_type": "code",
   "execution_count": 28,
   "id": "b587eeb0",
   "metadata": {},
   "outputs": [],
   "source": [
    "df = merged_data[['counter_statue', 'reading_remarque', 'target']]\n",
    "\n",
    "# Filter the dataframe to include only fraud cases\n",
    "fraud_df = df[df['target'] == 1]\n",
    "\n",
    "# Create a grouped dataframe to count the occurrences of each combination\n",
    "grouped_df = fraud_df.groupby(['counter_statue', 'reading_remarque']).size().reset_index(name='count')\n",
    "\n",
    "# Create a stacked bar chart\n",
    "fig = px.bar(grouped_df, x='counter_statue', y='count', color='reading_remarque', barmode='stack',\n",
    "             title='Counter_statue and Reading_remarque for Fraud Detection',\n",
    "             labels={'Counter_statue': 'Counter Statue', 'count': 'Count', 'Reading_remarque': 'Reading Remarque'})\n",
    "\n",
    "fig.show()"
   ]
  },
  {
   "cell_type": "code",
   "execution_count": 29,
   "id": "fb3fa796",
   "metadata": {},
   "outputs": [],
   "source": [
    "def plot_top_correlations(df: pd.core.frame.DataFrame, n: int, title_name: str = 'Top Correlations') -> None:\n",
    "    # Select only numeric columns\n",
    "    numeric_cols = df.select_dtypes(include='number')\n",
    "\n",
    "    # Calculate correlation between numeric variables\n",
    "    corr = numeric_cols.corr()\n",
    "\n",
    "    # Select variables having highest absolute correlation\n",
    "    top_corr_cols = corr.abs().nlargest(n, columns=corr.columns).index\n",
    "    top_corr = corr.loc[top_corr_cols, top_corr_cols]\n",
    "\n",
    "    fig, axes = plt.subplots(figsize=(10, 5))\n",
    "    mask = np.zeros_like(top_corr)\n",
    "    mask[np.triu_indices_from(mask)] = True\n",
    "    sns.heatmap(top_corr, mask=mask, linewidths=.5, cmap='YlOrRd', annot=True)\n",
    "    plt.title(title_name)\n",
    "    plt.show()\n",
    "\n",
    "# Plot heatmap of top 12 correlations in training data for numeric columns\n",
    "plot_top_correlations(merged_data, 12, 'Correlations in Train Dataset (Numeric Columns)')"
   ]
  },
  {
   "cell_type": "markdown",
   "id": "7dcb89c4",
   "metadata": {},
   "source": [
    "Data preprocessing and feature engineering"
   ]
  },
  {
   "cell_type": "code",
   "execution_count": 30,
   "id": "b356ad37",
   "metadata": {},
   "outputs": [],
   "source": [
    "# This function is from this notebook: https://www.kaggle.com/code/imgremlin/4th-place-in-fraud-detection-from-zindi\n",
    "\n",
    "def feature_change(cl, inv):\n",
    "\n",
    "    cl['client_catg'] = cl['client_catg'].astype('category')\n",
    "    cl['disrict'] = cl['disrict'].astype('category')\n",
    "    cl['region'] = cl['region'].astype('category')\n",
    "    cl['region_group'] = cl['region'].apply(lambda x: 100 if x<100 else 300 if x>300 else 200)\n",
    "    cl['creation_date'] = pd.to_datetime(cl['creation_date'])\n",
    "    \n",
    "    cl['coop_time'] = (2019 - cl['creation_date'].dt.year)*12 - cl['creation_date'].dt.month\n",
    "\n",
    "    inv['counter_type'] = inv['counter_type'].map({\"ELEC\":1,\"GAZ\":0})\n",
    "    inv['counter_statue'] = inv['counter_statue'].map({0:0,1:1,2:2,3:3,4:4,5:5,769:5,'0':0,'5':5,'1':1,'4':4,'A':0,618:5,269375:5,46:5,420:5})\n",
    "    \n",
    "    inv['invoice_date'] = pd.to_datetime(inv['invoice_date'], dayfirst=True)\n",
    "    inv['invoice_month'] = inv['invoice_date'].dt.month\n",
    "    inv['invoice_year'] = inv['invoice_date'].dt.year\n",
    "    inv['is_weekday'] = ((pd.DatetimeIndex(inv.invoice_date).dayofweek) // 5 == 1).astype(float)\n",
    "    inv['delta_index'] = inv['new_index'] - inv['old_index']\n",
    "    \n",
    "    return cl, inv"
   ]
  },
  {
   "cell_type": "markdown",
   "id": "7cf710bb",
   "metadata": {},
   "source": [
    "1. 'client_catg', 'district' and 'region' were assigned as categories to use them as categorical features in lgbm (as for me, lgbm for default threats with cat features slightly better than other encoders such as catboost/target encoder)\n",
    "2. 'region_group' created simply by dividing 'region' in 3 groups (we purposed that regions weren't randomly decoded)\n",
    "3. 'coop_time' - amount of time since account creation in months\n",
    "4. 'counter_type' was binary encoded\n",
    "5. 'counter_statue' cleaned from mislabeled values\n",
    "6. extracted month, year from 'invoice_date', also added binary feature - 'is_weekday'\n",
    "7. not sure about any logical sense in 'delta_index', but it improved score"
   ]
  },
  {
   "cell_type": "code",
   "execution_count": 31,
   "id": "f91a48f9",
   "metadata": {},
   "outputs": [],
   "source": [
    "client_train1, invoice_train1 = feature_change(client_train, invoice_train)\n",
    "client_test1, invoice_test1 = feature_change(client_test, invoice_test)"
   ]
  },
  {
   "cell_type": "code",
   "execution_count": 32,
   "id": "ec2e9cb2",
   "metadata": {},
   "outputs": [],
   "source": [
    "def agg_feature(invoice, client_df, agg_stat):\n",
    "    \n",
    "    invoice['delta_time'] = invoice.sort_values(['client_id','invoice_date']).groupby('client_id')['invoice_date'].diff().dt.days.reset_index(drop=True)\n",
    "    agg_trans = invoice.groupby('client_id')[agg_stat+['delta_time']].agg(['mean','std','min','max'])\n",
    "    \n",
    "    agg_trans.columns = ['_'.join(col).strip() for col in agg_trans.columns.values]\n",
    "    agg_trans.reset_index(inplace=True)\n",
    "\n",
    "    df = invoice.groupby('client_id').size().reset_index(name='transactions_count')\n",
    "    agg_trans = pd.merge(df, agg_trans, on='client_id', how='left')\n",
    "    \n",
    "    weekday_avg = invoice.groupby('client_id')[['is_weekday']].agg(['mean'])\n",
    "    weekday_avg.columns = ['_'.join(col).strip() for col in weekday_avg.columns.values]\n",
    "    weekday_avg.reset_index(inplace=True)\n",
    "    client_df = pd.merge(client_df, weekday_avg, on='client_id', how='left')\n",
    "    \n",
    "    full_df = pd.merge(client_df, agg_trans, on='client_id', how='left')\n",
    "    \n",
    "    full_df['invoice_per_cooperation'] = full_df['transactions_count'] / full_df['coop_time']\n",
    "    \n",
    "    return full_df"
   ]
  },
  {
   "cell_type": "code",
   "execution_count": 33,
   "id": "7a30997d",
   "metadata": {},
   "outputs": [],
   "source": [
    "agg_stat_columns = [\n",
    " 'tarif_type',\n",
    " 'counter_number',\n",
    " 'counter_statue',\n",
    " 'counter_code',\n",
    " 'reading_remarque',\n",
    " 'consommation_level_1',\n",
    " 'consommation_level_2',\n",
    " 'consommation_level_3',\n",
    " 'consommation_level_4',\n",
    " 'old_index',\n",
    " 'new_index',\n",
    " 'months_number',\n",
    " 'counter_type',\n",
    " 'invoice_month',\n",
    " 'invoice_year',\n",
    " 'delta_index'\n",
    "]\n",
    "\n",
    "train_df1 = agg_feature(invoice_train1, client_train1, agg_stat_columns)\n",
    "test_df1 = agg_feature(invoice_test1, client_test1, agg_stat_columns)"
   ]
  },
  {
   "cell_type": "code",
   "execution_count": 34,
   "id": "d4dcf0e8",
   "metadata": {},
   "outputs": [],
   "source": [
    "def new_features(df):\n",
    "    \n",
    "    for col in agg_stat_columns:\n",
    "        df[col+'_range'] = df[col+'_max'] - df[col+'_min']\n",
    "        df[col+'_max_mean'] = df[col+'_max']/df[col+'_mean']\n",
    "    \n",
    "    return df\n",
    "\n",
    "def drop(df):\n",
    "\n",
    "    col_drop = ['client_id', 'creation_date']\n",
    "    for col in col_drop:\n",
    "        df.drop([col], axis=1, inplace=True)\n",
    "    return df"
   ]
  },
  {
   "cell_type": "code",
   "execution_count": 35,
   "id": "b53aba35",
   "metadata": {},
   "outputs": [],
   "source": [
    "train_df2 = new_features(train_df1)\n",
    "test_df2 = new_features(test_df1)"
   ]
  },
  {
   "cell_type": "code",
   "execution_count": 36,
   "id": "cb845cdb",
   "metadata": {},
   "outputs": [],
   "source": [
    "print('Initial number of columns: ', len(client_train.columns)+len(invoice_train.columns))\n",
    "print('Number of columns now: ', len(train_df2.columns))"
   ]
  },
  {
   "cell_type": "code",
   "execution_count": 37,
   "id": "1df82ad7",
   "metadata": {},
   "outputs": [],
   "source": [
    "train_df = drop(train_df2)\n",
    "test_df = drop(test_df2)"
   ]
  },
  {
   "cell_type": "code",
   "execution_count": 38,
   "id": "d5b90ce9",
   "metadata": {},
   "outputs": [],
   "source": [
    "y = train_df['target']\n",
    "X = train_df.drop('target',axis=1)\n",
    "\n",
    "feature_name = X.columns.tolist()"
   ]
  },
  {
   "cell_type": "code",
   "execution_count": 39,
   "id": "87ef2ddf",
   "metadata": {},
   "outputs": [],
   "source": [
    "drop_col=['reading_remarque_max','counter_statue_min','counter_type_min','counter_type_max','counter_type_range',\n",
    "          'tarif_type_max', 'delta_index_min', 'consommation_level_4_mean']\n",
    "\n",
    "X = X.drop(drop_col, axis=1)\n",
    "test_df = test_df.drop(drop_col, axis=1)"
   ]
  },
  {
   "cell_type": "markdown",
   "id": "1223b777",
   "metadata": {},
   "source": [
    "Modeling"
   ]
  },
  {
   "cell_type": "code",
   "execution_count": 40,
   "id": "f391398a",
   "metadata": {},
   "outputs": [],
   "source": [
    "seed=47\n",
    "category_cols = ['disrict', 'client_catg', 'region']"
   ]
  },
  {
   "cell_type": "code",
   "execution_count": 55,
   "id": "3cb1e8a1",
   "metadata": {},
   "outputs": [
    {
     "name": "stdout",
     "output_type": "stream",
     "text": [
      "[LightGBM] [Warning] feature_fraction is set=0.3764303138879782, colsample_bytree=1.0 will be ignored. Current value: feature_fraction=0.3764303138879782\n",
      "[LightGBM] [Warning] bagging_freq is set=8, subsample_freq=0 will be ignored. Current value: bagging_freq=8\n",
      "[LightGBM] [Warning] feature_fraction is set=0.3764303138879782, colsample_bytree=1.0 will be ignored. Current value: feature_fraction=0.3764303138879782\n",
      "[LightGBM] [Warning] bagging_freq is set=8, subsample_freq=0 will be ignored. Current value: bagging_freq=8\n",
      "[LightGBM] [Warning] feature_fraction is set=0.3764303138879782, colsample_bytree=1.0 will be ignored. Current value: feature_fraction=0.3764303138879782\n",
      "[LightGBM] [Warning] bagging_freq is set=8, subsample_freq=0 will be ignored. Current value: bagging_freq=8\n",
      "[LightGBM] [Warning] feature_fraction is set=0.3764303138879782, colsample_bytree=1.0 will be ignored. Current value: feature_fraction=0.3764303138879782\n",
      "[LightGBM] [Warning] bagging_freq is set=8, subsample_freq=0 will be ignored. Current value: bagging_freq=8\n",
      "[LightGBM] [Warning] feature_fraction is set=0.3764303138879782, colsample_bytree=1.0 will be ignored. Current value: feature_fraction=0.3764303138879782\n",
      "[LightGBM] [Warning] bagging_freq is set=8, subsample_freq=0 will be ignored. Current value: bagging_freq=8\n",
      "ROC AUC: 0.884544\n"
     ]
    },
    {
     "data": {
      "text/html": [
       "<div>\n",
       "<style scoped>\n",
       "    .dataframe tbody tr th:only-of-type {\n",
       "        vertical-align: middle;\n",
       "    }\n",
       "\n",
       "    .dataframe tbody tr th {\n",
       "        vertical-align: top;\n",
       "    }\n",
       "\n",
       "    .dataframe thead th {\n",
       "        text-align: right;\n",
       "    }\n",
       "</style>\n",
       "<table border=\"1\" class=\"dataframe\">\n",
       "  <thead>\n",
       "    <tr style=\"text-align: right;\">\n",
       "      <th></th>\n",
       "      <th>target</th>\n",
       "    </tr>\n",
       "  </thead>\n",
       "  <tbody>\n",
       "    <tr>\n",
       "      <th>0</th>\n",
       "      <td>0.016599</td>\n",
       "    </tr>\n",
       "    <tr>\n",
       "      <th>1</th>\n",
       "      <td>0.088340</td>\n",
       "    </tr>\n",
       "    <tr>\n",
       "      <th>2</th>\n",
       "      <td>0.015266</td>\n",
       "    </tr>\n",
       "    <tr>\n",
       "      <th>3</th>\n",
       "      <td>0.005163</td>\n",
       "    </tr>\n",
       "    <tr>\n",
       "      <th>4</th>\n",
       "      <td>0.054146</td>\n",
       "    </tr>\n",
       "    <tr>\n",
       "      <th>...</th>\n",
       "      <td>...</td>\n",
       "    </tr>\n",
       "    <tr>\n",
       "      <th>58064</th>\n",
       "      <td>0.003456</td>\n",
       "    </tr>\n",
       "    <tr>\n",
       "      <th>58065</th>\n",
       "      <td>0.011514</td>\n",
       "    </tr>\n",
       "    <tr>\n",
       "      <th>58066</th>\n",
       "      <td>0.635796</td>\n",
       "    </tr>\n",
       "    <tr>\n",
       "      <th>58067</th>\n",
       "      <td>0.006677</td>\n",
       "    </tr>\n",
       "    <tr>\n",
       "      <th>58068</th>\n",
       "      <td>0.044105</td>\n",
       "    </tr>\n",
       "  </tbody>\n",
       "</table>\n",
       "<p>58069 rows × 1 columns</p>\n",
       "</div>"
      ],
      "text/plain": [
       "         target\n",
       "0      0.016599\n",
       "1      0.088340\n",
       "2      0.015266\n",
       "3      0.005163\n",
       "4      0.054146\n",
       "...         ...\n",
       "58064  0.003456\n",
       "58065  0.011514\n",
       "58066  0.635796\n",
       "58067  0.006677\n",
       "58068  0.044105\n",
       "\n",
       "[58069 rows x 1 columns]"
      ]
     },
     "execution_count": 55,
     "metadata": {},
     "output_type": "execute_result"
    }
   ],
   "source": [
    "import joblib\n",
    "model = LGBMClassifier(random_state=seed, n_estimators=830, num_leaves=454, max_depth=61,\n",
    "                       learning_rate=0.006910869038433314, min_split_gain=0.00667926424629105,\n",
    "                       feature_fraction=0.3764303138879782, bagging_freq=8)\n",
    "\n",
    "stkfold = StratifiedKFold(n_splits=5, shuffle=True, random_state=seed)\n",
    "\n",
    "def calc(X, y, model, cv):\n",
    "    res = []\n",
    "    local_probs = pd.DataFrame()\n",
    "    probs = pd.DataFrame()\n",
    "\n",
    "    for i, (tdx, vdx) in enumerate(cv.split(X, y)):\n",
    "        X_train, X_valid, y_train, y_valid = X.iloc[tdx], X.iloc[vdx], y[tdx], y[vdx]\n",
    "        model.fit(X_train, y_train,\n",
    "                  eval_set=[(X_train, y_train), (X_valid, y_valid)],\n",
    "                  early_stopping_rounds=30, verbose=False)\n",
    "\n",
    "        preds = model.predict_proba(X_valid)\n",
    "        oof_predict = model.predict_proba(test_df)  # Assuming test_df is your test dataset\n",
    "        local_probs['fold_%i' % i] = oof_predict[:, 1]\n",
    "        res.append(roc_auc_score(y_valid, preds[:, 1]))\n",
    "\n",
    "    print('ROC AUC:', round(np.mean(res), 6))\n",
    "    local_probs['res'] = local_probs.mean(axis=1)\n",
    "    probs['target'] = local_probs['res']\n",
    "\n",
    "    # Save the model using joblib\n",
    "#     joblib.dump(model, 'C:/Users/ITAPPS002/lgbm_model.joblib')\n",
    "\n",
    "    return probs\n",
    "\n",
    "# Call the calc function to train the model and save it\n",
    "probs = calc(X, y, model, stkfold)\n",
    "probs"
   ]
  },
  {
   "cell_type": "markdown",
   "id": "02f15882",
   "metadata": {},
   "source": [
    "Predictions"
   ]
  },
  {
   "cell_type": "code",
   "execution_count": 56,
   "id": "e8164c2c",
   "metadata": {},
   "outputs": [
    {
     "name": "stdout",
     "output_type": "stream",
     "text": [
      "set()\n"
     ]
    }
   ],
   "source": [
    "# Get the features in X.columns that are not in test_df.columns\n",
    "missing_features = set(X.columns) - set(test_df.columns)\n",
    "\n",
    "# Print the missing features\n",
    "print(missing_features)"
   ]
  },
  {
   "cell_type": "code",
   "execution_count": 57,
   "id": "b90302bd",
   "metadata": {},
   "outputs": [
    {
     "ename": "KeyError",
     "evalue": "\"['creation_year'] not found in axis\"",
     "output_type": "error",
     "traceback": [
      "\u001b[1;31m---------------------------------------------------------------------------\u001b[0m",
      "\u001b[1;31mKeyError\u001b[0m                                  Traceback (most recent call last)",
      "Cell \u001b[1;32mIn[57], line 1\u001b[0m\n\u001b[1;32m----> 1\u001b[0m X\u001b[38;5;241m=\u001b[39m\u001b[43mX\u001b[49m\u001b[38;5;241;43m.\u001b[39;49m\u001b[43mdrop\u001b[49m\u001b[43m(\u001b[49m\u001b[38;5;124;43m'\u001b[39;49m\u001b[38;5;124;43mcreation_year\u001b[39;49m\u001b[38;5;124;43m'\u001b[39;49m\u001b[43m,\u001b[49m\u001b[43maxis\u001b[49m\u001b[38;5;241;43m=\u001b[39;49m\u001b[38;5;241;43m1\u001b[39;49m\u001b[43m)\u001b[49m\n",
      "File \u001b[1;32m~\\Desktop\\htech\\htech\\lib\\site-packages\\pandas\\core\\frame.py:5268\u001b[0m, in \u001b[0;36mDataFrame.drop\u001b[1;34m(self, labels, axis, index, columns, level, inplace, errors)\u001b[0m\n\u001b[0;32m   5120\u001b[0m \u001b[38;5;28;01mdef\u001b[39;00m \u001b[38;5;21mdrop\u001b[39m(\n\u001b[0;32m   5121\u001b[0m     \u001b[38;5;28mself\u001b[39m,\n\u001b[0;32m   5122\u001b[0m     labels: IndexLabel \u001b[38;5;241m=\u001b[39m \u001b[38;5;28;01mNone\u001b[39;00m,\n\u001b[1;32m   (...)\u001b[0m\n\u001b[0;32m   5129\u001b[0m     errors: IgnoreRaise \u001b[38;5;241m=\u001b[39m \u001b[38;5;124m\"\u001b[39m\u001b[38;5;124mraise\u001b[39m\u001b[38;5;124m\"\u001b[39m,\n\u001b[0;32m   5130\u001b[0m ) \u001b[38;5;241m-\u001b[39m\u001b[38;5;241m>\u001b[39m DataFrame \u001b[38;5;241m|\u001b[39m \u001b[38;5;28;01mNone\u001b[39;00m:\n\u001b[0;32m   5131\u001b[0m     \u001b[38;5;124;03m\"\"\"\u001b[39;00m\n\u001b[0;32m   5132\u001b[0m \u001b[38;5;124;03m    Drop specified labels from rows or columns.\u001b[39;00m\n\u001b[0;32m   5133\u001b[0m \n\u001b[1;32m   (...)\u001b[0m\n\u001b[0;32m   5266\u001b[0m \u001b[38;5;124;03m            weight  1.0     0.8\u001b[39;00m\n\u001b[0;32m   5267\u001b[0m \u001b[38;5;124;03m    \"\"\"\u001b[39;00m\n\u001b[1;32m-> 5268\u001b[0m     \u001b[38;5;28;01mreturn\u001b[39;00m \u001b[38;5;28;43msuper\u001b[39;49m\u001b[43m(\u001b[49m\u001b[43m)\u001b[49m\u001b[38;5;241;43m.\u001b[39;49m\u001b[43mdrop\u001b[49m\u001b[43m(\u001b[49m\n\u001b[0;32m   5269\u001b[0m \u001b[43m        \u001b[49m\u001b[43mlabels\u001b[49m\u001b[38;5;241;43m=\u001b[39;49m\u001b[43mlabels\u001b[49m\u001b[43m,\u001b[49m\n\u001b[0;32m   5270\u001b[0m \u001b[43m        \u001b[49m\u001b[43maxis\u001b[49m\u001b[38;5;241;43m=\u001b[39;49m\u001b[43maxis\u001b[49m\u001b[43m,\u001b[49m\n\u001b[0;32m   5271\u001b[0m \u001b[43m        \u001b[49m\u001b[43mindex\u001b[49m\u001b[38;5;241;43m=\u001b[39;49m\u001b[43mindex\u001b[49m\u001b[43m,\u001b[49m\n\u001b[0;32m   5272\u001b[0m \u001b[43m        \u001b[49m\u001b[43mcolumns\u001b[49m\u001b[38;5;241;43m=\u001b[39;49m\u001b[43mcolumns\u001b[49m\u001b[43m,\u001b[49m\n\u001b[0;32m   5273\u001b[0m \u001b[43m        \u001b[49m\u001b[43mlevel\u001b[49m\u001b[38;5;241;43m=\u001b[39;49m\u001b[43mlevel\u001b[49m\u001b[43m,\u001b[49m\n\u001b[0;32m   5274\u001b[0m \u001b[43m        \u001b[49m\u001b[43minplace\u001b[49m\u001b[38;5;241;43m=\u001b[39;49m\u001b[43minplace\u001b[49m\u001b[43m,\u001b[49m\n\u001b[0;32m   5275\u001b[0m \u001b[43m        \u001b[49m\u001b[43merrors\u001b[49m\u001b[38;5;241;43m=\u001b[39;49m\u001b[43merrors\u001b[49m\u001b[43m,\u001b[49m\n\u001b[0;32m   5276\u001b[0m \u001b[43m    \u001b[49m\u001b[43m)\u001b[49m\n",
      "File \u001b[1;32m~\\Desktop\\htech\\htech\\lib\\site-packages\\pandas\\core\\generic.py:4549\u001b[0m, in \u001b[0;36mNDFrame.drop\u001b[1;34m(self, labels, axis, index, columns, level, inplace, errors)\u001b[0m\n\u001b[0;32m   4547\u001b[0m \u001b[38;5;28;01mfor\u001b[39;00m axis, labels \u001b[38;5;129;01min\u001b[39;00m axes\u001b[38;5;241m.\u001b[39mitems():\n\u001b[0;32m   4548\u001b[0m     \u001b[38;5;28;01mif\u001b[39;00m labels \u001b[38;5;129;01mis\u001b[39;00m \u001b[38;5;129;01mnot\u001b[39;00m \u001b[38;5;28;01mNone\u001b[39;00m:\n\u001b[1;32m-> 4549\u001b[0m         obj \u001b[38;5;241m=\u001b[39m \u001b[43mobj\u001b[49m\u001b[38;5;241;43m.\u001b[39;49m\u001b[43m_drop_axis\u001b[49m\u001b[43m(\u001b[49m\u001b[43mlabels\u001b[49m\u001b[43m,\u001b[49m\u001b[43m \u001b[49m\u001b[43maxis\u001b[49m\u001b[43m,\u001b[49m\u001b[43m \u001b[49m\u001b[43mlevel\u001b[49m\u001b[38;5;241;43m=\u001b[39;49m\u001b[43mlevel\u001b[49m\u001b[43m,\u001b[49m\u001b[43m \u001b[49m\u001b[43merrors\u001b[49m\u001b[38;5;241;43m=\u001b[39;49m\u001b[43merrors\u001b[49m\u001b[43m)\u001b[49m\n\u001b[0;32m   4551\u001b[0m \u001b[38;5;28;01mif\u001b[39;00m inplace:\n\u001b[0;32m   4552\u001b[0m     \u001b[38;5;28mself\u001b[39m\u001b[38;5;241m.\u001b[39m_update_inplace(obj)\n",
      "File \u001b[1;32m~\\Desktop\\htech\\htech\\lib\\site-packages\\pandas\\core\\generic.py:4591\u001b[0m, in \u001b[0;36mNDFrame._drop_axis\u001b[1;34m(self, labels, axis, level, errors, only_slice)\u001b[0m\n\u001b[0;32m   4589\u001b[0m         new_axis \u001b[38;5;241m=\u001b[39m axis\u001b[38;5;241m.\u001b[39mdrop(labels, level\u001b[38;5;241m=\u001b[39mlevel, errors\u001b[38;5;241m=\u001b[39merrors)\n\u001b[0;32m   4590\u001b[0m     \u001b[38;5;28;01melse\u001b[39;00m:\n\u001b[1;32m-> 4591\u001b[0m         new_axis \u001b[38;5;241m=\u001b[39m \u001b[43maxis\u001b[49m\u001b[38;5;241;43m.\u001b[39;49m\u001b[43mdrop\u001b[49m\u001b[43m(\u001b[49m\u001b[43mlabels\u001b[49m\u001b[43m,\u001b[49m\u001b[43m \u001b[49m\u001b[43merrors\u001b[49m\u001b[38;5;241;43m=\u001b[39;49m\u001b[43merrors\u001b[49m\u001b[43m)\u001b[49m\n\u001b[0;32m   4592\u001b[0m     indexer \u001b[38;5;241m=\u001b[39m axis\u001b[38;5;241m.\u001b[39mget_indexer(new_axis)\n\u001b[0;32m   4594\u001b[0m \u001b[38;5;66;03m# Case for non-unique axis\u001b[39;00m\n\u001b[0;32m   4595\u001b[0m \u001b[38;5;28;01melse\u001b[39;00m:\n",
      "File \u001b[1;32m~\\Desktop\\htech\\htech\\lib\\site-packages\\pandas\\core\\indexes\\base.py:6696\u001b[0m, in \u001b[0;36mIndex.drop\u001b[1;34m(self, labels, errors)\u001b[0m\n\u001b[0;32m   6694\u001b[0m \u001b[38;5;28;01mif\u001b[39;00m mask\u001b[38;5;241m.\u001b[39many():\n\u001b[0;32m   6695\u001b[0m     \u001b[38;5;28;01mif\u001b[39;00m errors \u001b[38;5;241m!=\u001b[39m \u001b[38;5;124m\"\u001b[39m\u001b[38;5;124mignore\u001b[39m\u001b[38;5;124m\"\u001b[39m:\n\u001b[1;32m-> 6696\u001b[0m         \u001b[38;5;28;01mraise\u001b[39;00m \u001b[38;5;167;01mKeyError\u001b[39;00m(\u001b[38;5;124mf\u001b[39m\u001b[38;5;124m\"\u001b[39m\u001b[38;5;132;01m{\u001b[39;00m\u001b[38;5;28mlist\u001b[39m(labels[mask])\u001b[38;5;132;01m}\u001b[39;00m\u001b[38;5;124m not found in axis\u001b[39m\u001b[38;5;124m\"\u001b[39m)\n\u001b[0;32m   6697\u001b[0m     indexer \u001b[38;5;241m=\u001b[39m indexer[\u001b[38;5;241m~\u001b[39mmask]\n\u001b[0;32m   6698\u001b[0m \u001b[38;5;28;01mreturn\u001b[39;00m \u001b[38;5;28mself\u001b[39m\u001b[38;5;241m.\u001b[39mdelete(indexer)\n",
      "\u001b[1;31mKeyError\u001b[0m: \"['creation_year'] not found in axis\""
     ]
    }
   ],
   "source": [
    "X=X.drop('creation_year',axis=1)"
   ]
  },
  {
   "cell_type": "code",
   "execution_count": 58,
   "id": "0e919fa5",
   "metadata": {},
   "outputs": [
    {
     "name": "stdout",
     "output_type": "stream",
     "text": [
      "[LightGBM] [Warning] feature_fraction is set=0.3764303138879782, colsample_bytree=1.0 will be ignored. Current value: feature_fraction=0.3764303138879782\n",
      "[LightGBM] [Warning] bagging_freq is set=8, subsample_freq=0 will be ignored. Current value: bagging_freq=8\n",
      "[LightGBM] [Warning] feature_fraction is set=0.3764303138879782, colsample_bytree=1.0 will be ignored. Current value: feature_fraction=0.3764303138879782\n",
      "[LightGBM] [Warning] bagging_freq is set=8, subsample_freq=0 will be ignored. Current value: bagging_freq=8\n",
      "[LightGBM] [Warning] feature_fraction is set=0.3764303138879782, colsample_bytree=1.0 will be ignored. Current value: feature_fraction=0.3764303138879782\n",
      "[LightGBM] [Warning] bagging_freq is set=8, subsample_freq=0 will be ignored. Current value: bagging_freq=8\n",
      "[LightGBM] [Warning] feature_fraction is set=0.3764303138879782, colsample_bytree=1.0 will be ignored. Current value: feature_fraction=0.3764303138879782\n",
      "[LightGBM] [Warning] bagging_freq is set=8, subsample_freq=0 will be ignored. Current value: bagging_freq=8\n",
      "[LightGBM] [Warning] feature_fraction is set=0.3764303138879782, colsample_bytree=1.0 will be ignored. Current value: feature_fraction=0.3764303138879782\n",
      "[LightGBM] [Warning] bagging_freq is set=8, subsample_freq=0 will be ignored. Current value: bagging_freq=8\n",
      "ROC AUC: 0.884544\n",
      "CPU times: total: 19min 58s\n",
      "Wall time: 3min 23s\n"
     ]
    }
   ],
   "source": [
    "%%time\n",
    "probs = calc(X, y, model, stkfold)"
   ]
  },
  {
   "cell_type": "code",
   "execution_count": 59,
   "id": "ddb35080",
   "metadata": {},
   "outputs": [],
   "source": [
    "results = pd.DataFrame({\n",
    "        \"client_id\": sample_submission[\"client_id\"],\n",
    "        \"target\": probs['target']\n",
    "    })"
   ]
  },
  {
   "cell_type": "code",
   "execution_count": 60,
   "id": "98c9bae0",
   "metadata": {},
   "outputs": [],
   "source": [
    "results = pd.DataFrame({\n",
    "        \"client_id\": sample_submission[\"client_id\"],\n",
    "        \"target\": probs['target']\n",
    "    })"
   ]
  },
  {
   "cell_type": "code",
   "execution_count": 61,
   "id": "022f4d4f",
   "metadata": {},
   "outputs": [
    {
     "data": {
      "text/html": [
       "<div>\n",
       "<style scoped>\n",
       "    .dataframe tbody tr th:only-of-type {\n",
       "        vertical-align: middle;\n",
       "    }\n",
       "\n",
       "    .dataframe tbody tr th {\n",
       "        vertical-align: top;\n",
       "    }\n",
       "\n",
       "    .dataframe thead th {\n",
       "        text-align: right;\n",
       "    }\n",
       "</style>\n",
       "<table border=\"1\" class=\"dataframe\">\n",
       "  <thead>\n",
       "    <tr style=\"text-align: right;\">\n",
       "      <th></th>\n",
       "      <th>client_id</th>\n",
       "      <th>target</th>\n",
       "    </tr>\n",
       "  </thead>\n",
       "  <tbody>\n",
       "    <tr>\n",
       "      <th>0</th>\n",
       "      <td>test_Client_0</td>\n",
       "      <td>0.016599</td>\n",
       "    </tr>\n",
       "    <tr>\n",
       "      <th>1</th>\n",
       "      <td>test_Client_1</td>\n",
       "      <td>0.088340</td>\n",
       "    </tr>\n",
       "    <tr>\n",
       "      <th>2</th>\n",
       "      <td>test_Client_10</td>\n",
       "      <td>0.015266</td>\n",
       "    </tr>\n",
       "    <tr>\n",
       "      <th>3</th>\n",
       "      <td>test_Client_100</td>\n",
       "      <td>0.005163</td>\n",
       "    </tr>\n",
       "    <tr>\n",
       "      <th>4</th>\n",
       "      <td>test_Client_1000</td>\n",
       "      <td>0.054146</td>\n",
       "    </tr>\n",
       "  </tbody>\n",
       "</table>\n",
       "</div>"
      ],
      "text/plain": [
       "          client_id    target\n",
       "0     test_Client_0  0.016599\n",
       "1     test_Client_1  0.088340\n",
       "2    test_Client_10  0.015266\n",
       "3   test_Client_100  0.005163\n",
       "4  test_Client_1000  0.054146"
      ]
     },
     "execution_count": 61,
     "metadata": {},
     "output_type": "execute_result"
    }
   ],
   "source": [
    "results.head()"
   ]
  },
  {
   "cell_type": "code",
   "execution_count": null,
   "id": "1ccce4f9",
   "metadata": {},
   "outputs": [],
   "source": [
    "feature_importance = model.feature_importances_\n",
    "feature_names = X.columns\n",
    "feature_importance_df = pd.DataFrame({'Feature': feature_names, 'Importance': feature_importance})\n",
    "feature_importance_df = feature_importance_df.sort_values('Importance', ascending=False)\n",
    "\n",
    "top_n = 14\n",
    "\n",
    "top_features = feature_importance_df.head(top_n)\n",
    "\n",
    "# Plot feature importance\n",
    "plt.figure(figsize=(10, 6))\n",
    "sns.barplot(x='Importance', y='Feature', data=top_features)\n",
    "plt.title(f'Top {top_n} Feature Importance')\n",
    "plt.xlabel('Importance')\n",
    "plt.ylabel('Feature')\n",
    "plt.show()"
   ]
  },
  {
   "cell_type": "code",
   "execution_count": 2,
   "id": "ef08eee5",
   "metadata": {},
   "outputs": [
    {
     "data": {
      "image/png": "[encoded data removed]",
      "text/plain": [
       "<Figure size 1200x500 with 2 Axes>"
      ]
     },
     "metadata": {},
     "output_type": "display_data"
    }
   ],
   "source": [
    "import numpy as np\n",
    "import matplotlib.pyplot as plt\n",
    "import seaborn as sns\n",
    "from imblearn.over_sampling import ADASYN\n",
    "from sklearn.datasets import make_classification\n",
    "\n",
    "# Create a synthetic imbalanced dataset\n",
    "X, y = make_classification(n_classes=2, class_sep=2, weights=[0.1, 0.9],\n",
    "                           n_informative=3, n_redundant=1, flip_y=0, n_features=20,\n",
    "                           n_clusters_per_class=1, n_samples=1000, random_state=42)\n",
    "\n",
    "# Visualize the imbalanced dataset\n",
    "plt.figure(figsize=(12, 5))\n",
    "plt.subplot(1, 2, 1)\n",
    "sns.countplot(x=y)\n",
    "plt.title(\"Imbalanced Dataset\")\n",
    "\n",
    "# Apply ADASYN to balance the dataset\n",
    "adasyn = ADASYN(random_state=42)\n",
    "X_resampled, y_resampled = adasyn.fit_resample(X, y)\n",
    "\n",
    "# Visualize the balanced dataset after applying ADASYN\n",
    "plt.subplot(1, 2, 2)\n",
    "sns.countplot(x=y_resampled)\n",
    "plt.title(\"Balanced Dataset (ADASYN)\")\n",
    "\n",
    "plt.show()\n"
   ]
  },
  {
   "cell_type": "code",
   "execution_count": null,
   "id": "c3e92b1b",
   "metadata": {},
   "outputs": [],
   "source": []
  }
 ],
 "metadata": {
  "kernelspec": {
   "display_name": "Python 3 (ipykernel)",
   "language": "python",
   "name": "python3"
  },
  "language_info": {
   "codemirror_mode": {
    "name": "ipython",
    "version": 3
   },
   "file_extension": ".py",
   "mimetype": "text/x-python",
   "name": "python",
   "nbconvert_exporter": "python",
   "pygments_lexer": "ipython3",
   "version": "3.8.8"
  }
 },
 "nbformat": 4,
 "nbformat_minor": 5
}
